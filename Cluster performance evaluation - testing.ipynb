{
 "cells": [
  {
   "cell_type": "code",
   "execution_count": 80,
   "id": "a4a463d2",
   "metadata": {},
   "outputs": [],
   "source": [
    "import pandas as pd\n",
    "import numpy as np\n",
    "\n",
    "import matplotlib.pyplot as plt\n",
    "import seaborn as sns\n",
    "\n",
    "import sklearn.cluster\n",
    "\n",
    "import time\n",
    "\n",
    "from rdkit import Chem, DataStructs\n",
    "from rdkit.Chem import (\n",
    "    PandasTools,\n",
    "    Draw,\n",
    "    Descriptors,\n",
    "    MACCSkeys,\n",
    "    rdFingerprintGenerator,\n",
    "    AllChem\n",
    ")"
   ]
  },
  {
   "cell_type": "code",
   "execution_count": 74,
   "id": "430bf929",
   "metadata": {},
   "outputs": [],
   "source": [
    "def similarity_matrix(df):\n",
    "    \n",
    "    for i in range(df.shape[0]):\n",
    "        "
   ]
  },
  {
   "cell_type": "markdown",
   "id": "1a3b6d08",
   "metadata": {},
   "source": [
    "#### In this sample code, we will test out a few clustering algorithms from sklearn.cluster package\n",
    "https://scikit-learn.org/stable/modules/clustering.html#\n",
    "\n",
    "* k-means\n",
    "* DBSCAN\n",
    "* Agglomerative Hierarchical\n",
    "* Spectral\n",
    "* Affinity Propagation"
   ]
  },
  {
   "cell_type": "code",
   "execution_count": 77,
   "id": "f38588d6",
   "metadata": {},
   "outputs": [],
   "source": [
    "# Set path for loading dataset from your local computer\n",
    "dataset_path = '/Users/hek/Research/Cheminformatics/Project_1_NPS/Stimulant vs. Hallucinogens/Dataset/Bioassay data/ChEMBL data/'\n",
    "dataset_output_path = '/Users/hek/Research/Cheminformatics/Project_3_ML for Raman data/ML results_Cluster Ensemble/ChEMBL data/'\n",
    "result_output_path = '/Users/hek/Research/Cheminformatics/Project_3_ML for Raman data/ML results_Cluster Ensemble/'"
   ]
  },
  {
   "cell_type": "code",
   "execution_count": 96,
   "id": "b75a6fa9",
   "metadata": {},
   "outputs": [],
   "source": [
    "# The ChEMBL data set that we will apply clustering algorithm to\n",
    "df = pd.read_csv(dataset_output_path+\"Final dataset CB1_P21554_EC50.csv\")"
   ]
  },
  {
   "cell_type": "code",
   "execution_count": 99,
   "id": "87e9b443",
   "metadata": {},
   "outputs": [],
   "source": [
    "# Calculate morgan fingerprint use RDkit\n",
    "PandasTools.AddMoleculeColumnToFrame(df, smilesCol=\"canonical_smiles\")\n",
    "df[\"morgan\"] = df.ROMol.apply(lambda x: AllChem.GetMorganFingerprintAsBitVect(x,2, nBits=1024))"
   ]
  },
  {
   "cell_type": "code",
   "execution_count": 100,
   "id": "6ba5677a",
   "metadata": {},
   "outputs": [
    {
     "name": "stdout",
     "output_type": "stream",
     "text": [
      "Data set contains N = 3155 data points\n"
     ]
    },
    {
     "data": {
      "text/html": [
       "<div>\n",
       "<style scoped>\n",
       "    .dataframe tbody tr th:only-of-type {\n",
       "        vertical-align: middle;\n",
       "    }\n",
       "\n",
       "    .dataframe tbody tr th {\n",
       "        vertical-align: top;\n",
       "    }\n",
       "\n",
       "    .dataframe thead th {\n",
       "        text-align: right;\n",
       "    }\n",
       "</style>\n",
       "<table border=\"1\" class=\"dataframe\">\n",
       "  <thead>\n",
       "    <tr style=\"text-align: right;\">\n",
       "      <th></th>\n",
       "      <th>canonical_smiles</th>\n",
       "      <th>label</th>\n",
       "      <th>ROMol</th>\n",
       "      <th>morgan</th>\n",
       "    </tr>\n",
       "  </thead>\n",
       "  <tbody>\n",
       "    <tr>\n",
       "      <th>0</th>\n",
       "      <td>Cn1c(C(=O)NN2CCCCC2)nc(-c2ccc(Cl)cc2)c1-c1ccc(...</td>\n",
       "      <td>1.0</td>\n",
       "      <td><img data-content=\"rdkit/molecule\" src=\"data:image/png;base64,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\" alt=\"Mol\"/></td>\n",
       "      <td>[0, 0, 1, 0, 1, 0, 0, 0, 0, 0, 0, 0, 0, 0, 0, ...</td>\n",
       "    </tr>\n",
       "    <tr>\n",
       "      <th>1</th>\n",
       "      <td>Cn1c(C(=O)NC2CCCCC2)nc(-c2ccc(Cl)cc2)c1-c1ccc(...</td>\n",
       "      <td>1.0</td>\n",
       "      <td><img data-content=\"rdkit/molecule\" src=\"data:image/png;base64,iVBORw0KGgoAAAANSUhEUgAAAMgAAADICAIAAAAiOjnJAAAABmJLR0QA/wD/AP+gvaeTAAAcDklEQVR4nO2deVyU1frAn1mYGRAZmVIsRQFBUYNUXNiES9J1zzRFvYr1s5yu3RvZdSENI9Nuo2XazRZsUQytO7mBZuW45IaiuKG4sTmIIbLvMNvz++PkXBIdZ3nPDMr5fvwD5X2fc0a+nHPe857zHB4iAoPBNXxHV4DxaMLEYlCBicWgAhOLQQUmFoMKTCwGFZhYDCowsRhUYGIxqMDEYlCBicWgAhOLQQUmFoMKTCwGFZhYDCowsRhUYGIxqMDEYlCBicWgAhOLQQUmFoMKTCwGFZhYDCowsRhUYGIxqMDEYlCBicWgAhOLQQUmFoMKTCwGFZhYDCowsRhUYGIxqMDEYlCBicWgAhOLQQUmFoMKTCwGFZhYDCowsRhUYGIxqMDEYlCBicWgAhOLQQVzxarUV5bpyqhWhfEoITTxPbVG/c7v70j4kk6CTqGuodX66lmyWTQqkZ2dLRaLCwoKnn32WRrxGQ4A709MfkxOUw4iVugqUqtSk8uTTVxsHY2NjYmJiWKx+KmnngKAsLCwQ4cOcV4Kw/6Y6grLdGW+Yl8AcBe4A4AGNWPzxv5S8wtXTu/fvz8gIGDZsmVarVYmk8lksmPHjkVGRk6cODE7O5urUhiOwYR0UdeitAYt+Tq1KnVmwUw4DXAaIq5GHKs7ZovOFRUVcrmcx+MBQEBAQHp6OiLW1tYqFAo3NzcA4PP5U6ZMyc3NtaUUhgMxJda3Zd/+Xf3332p/SylPSa1K/absm6TSJI8sD6JX9LXoM/VnrChSqVR27twZAJydnRMTE5ubm1t+t7S0ND4+XiKRAICTk5NcLv/999+tKIXhWEyJhYgXGi78UPHDxcaLxZriwuZCRKzV1ypuKaTnpHAa+Kf5U/KnkHGYOeTm5kZHR5OWMjIy8sqVK4iYnp4+atSompqalleq1Wq5XC4QCACgQ4cO8fHxlZWVVn1AhmN4gFj347b29hs33hCfEcNpCMoIeu2110y3KxqNRqFQkHZIJpMlJSUZDIaqqqq5c+fy+XwAePfdd1vfdenSpSlTppAeUyaTKRSKhoYG6yrMsDNWikVQN6v/7/r/Bc4IJO3K4sWLKyoqWl925MiR/v37AwCPx4uNjS0tLUXEtLQ0T09P0t/FxcXV1dXdr5SMjIwRI0aQdq5bt25r165tamqypdoMO2CTWITLly8b2xV3d/fExERjv1ZZWRkXF0faJF9fX5VKhYg3b96cNGkSESUsLOzixYvmlKJSqQYPHkzu8vLySkpK0ul0tleeQQkOxCKcPHly3Lhx5AffuXNnhUKxbdu2bt26kTYpPj6+qalJr9cnJSV17NgRAKRS6dq1a/V6vUWlqFSqwMBA4taNGze4qjyDczgTi7Bv376hQ4cSvUgbFhkZefnyZUQ8e/bskCFDyLfGjRtntRZarfaf//wnAIwfP57TujO4hGOxENFgMGzbtk0qlYpEohUrVhgMBo1GM2/ePPKI5+Xl9dNPP9lYhEqlAoARI0ZwUmEGDbhf3cDj8SZNmuTj46PRaMaMGcPj8ZycnHJycng8Xlxc3IULF8aMGWNd5DNnzuzbt6+hocHFxQUAGhsbOa04g0tMvYS2BWdnZwBoaGggf/3000+rq6sHDBhgS8yZM2devnw5Ozv7ruCMNggtsUijYvzZe3t7cxWzsbHR1dUVWIvVtqG10I80Ktz+7I0NFWux2j60xLqrxeI2Jo3gDG55+FqsxsZGNnhv+zyULZZEIuHxeI2NjYjIYXwGh9AVi9tGxRiTz+eLxWJEbGpq4jC+I0GEPXvgyy/h0iVHV4Ub6HaF3LZYLWM+asOsRYvg5k0IDYX334f0dEfXhgMepjFWy1bwURtmnT8Pc+ZAYCCsWAEbNzq6NhzwMHWFLVusR2rGQa8H4Z0JRTc3qK93aG244eHrClu2WI+IWAIBODlBSQkAwK5dMHy4oyvEAXaaeec8Jo2u1jGsXAm9esFHH0FiIggE0LkzvP22o+vEAXTfFXL7gx82bNjy5cvJcr9HpMUqL4fERNBqIT8fli2D+nrw8XF0nbjBfvNY27dvr66utiXm0KFDExISRo0aBZQH73l50KULlJcDANxZ60qHDRuguRnGjIGePeGTT8DPD1atolme/bDTU+HVq1enTp3q4+OzcuVK222oq6vLy8sDgB9//JHSVFZ4OCQk0AjcAkT46isAALkcdDrYuBEMBggPp1yqnaDbYqnV6pqaGgDQ6XTDhw+vqKh46623/Pz81q9fr9PprIu8e/fu/v37X758WSqVbtq0ycZordFoAAB69wapFI4e5SrqvTh4EK5dg+7dYcwY2LkTiouhb18IDaVZpB2htICwqqpq2bJl8OdtW603RFi05r24uDg2NpbcPmDAgHXr1g0aNIj8tU+fPkql0mAw2FLn5mZMSkJPT/z2W4yPx9pafO45nDDBlpAmmToVAZDse4uORgD89FNqhdkbWmIhYmZmZkREBPnBd+/e/auvvtJqtQaDIS0tLSAggPz7U089pVQqHxjKYDAkJyfLZDIAcHFxUSgUZIuOwWBQKpV+fn4kWkBAgDnRWlNfjx9/jE88gQAIgC+8gPHxiIhbt2JICB4+jObtJLKE0lIUi1EgQLUa8/KQz0dnZ7zX5jl7cuvWraNHj27YsGHJkiUpKSklJSVWh6IoFkGlUgUFBRnbleTkZL1er9frlUqlcfVfSEjIb7/9dr8IWVlZISEh5Mpx48ap1eq7LtBoNElJSWRHEACEhYUdPnzYzOrV1eHatf9TKjAQk5OxqQnLy/+4YM8edHHBrl3xyhWrPv99+HbNmt2RkdUvvoiIGB+PAPjSS1wW8CAqKioyMzOVSqVCoZDL5WFhYVKptGVX5ufnJ5PJ8vLyrItPXSy806707t37rlaqsbFx9erVjz/+OPn3NWvW3HVjQ0NDYmKiSCQCgCeeeCI52VQepebm5qSkpC5dupBo0dHR586dM3F9dXX1+++/HxBQQJQaOhR37cLWfWlzM44ZgwDYrRtylaPEYDCQVnb37t3Nzc05I0eiSITp6dxEb0VlZSVph95+++2YmJhBgwaRzCuteeyxx4YNGzZjxozExMTw8HAACAwMrK+vt6JQe4hFuKuVCg0NJamwSJKZzp073/XLcfDgwT59+gAAn8+Xy+XV1dXmlGJOypqamhqFQkE61oiIv4eGYlraPZQy0tCAUVEIgJ6emJ9v8Qdvzb59+wDA09NTp9P997//BYAJ4eEcxL0XFy9eXLJkSWuH3N3dg4KCpkyZEh8fn5SUpFKp7kqSUFNT069fPwD429/+ZkW59hOLQNoVDw8PY7ty9uxZRCSLqwi3bt0yDtIDAwOPHz9uaSn3S1lTVlaWkJBgbPMjIyP37z9oOtTZs1hWhvX1GBGBANizJ16/bml17mbKlCkAsGzZMkR85plnAGDdunW2Br0P48eP5/F4vr6+M2bMePfddzdv3pyRkVFu7OlNcuXKFfIrakX17C0WoXW7kpOTg3cG6aRzvGeSI4soKCiYNWsW2eDv6ur6zDPPkF0YRGhzUgdmZKBUikFBWFmJVVU4ZAgZh+mLi60f1ZaWlorFYqFQWFRUlJuby+PxnJ2d75nzwnZu3LghEAhEIpHVw/AdO3aQDXzmD1sJjhGLUFJSEhcXJxaLAUAkEs2YMcM4SB89enQ+J71Oi5Q1PXv2JEP7AwcOmHnvrVvo748AGByMNTVYVYXh4fpBgxb16dPn1q1b1tVHoVAAwIQJExBx4cKFADB79mzrQj2QxMREAJg2bZotQebPnw8AXbt2vXnzpvl3OVIsQmFhoVwuFwqFIpGIx+N5eHiYHqRbx4IFCwBg4sSJlt544wb6+CAAhoZibS2WlpaSdKkDBgwws0NpiXHYvmfPnubmZvKoceLECUvjmINOp+vRowcAmP+LdL84JOlwaGio+R2I48UiZGdnb9q0KTk5mVKn8OuvvwJAVFQUIlZXV584ceKK2fMH+fno6YlSqSE29qOGhoaSkhIyqh04cKCZtS0tLT1+/Ph33323dOnSESNGdOnSZeXKlQkJCWQQaf2nMklqaioA9OrVy8Z5Y0QsKSnp3r07AMybN8/MW9qKWLTJz88nD2KIuHr1agCIi4sz//Zr13D48HkAMGrUqKamplu3bvn7+wNAcHDwXbkI75ofio6O7tq1a+uHsk6dOolEIi8vr88++4zjj3qHsWPHAsBHH33ESbQTJ06QQcvGjRvNub69iKXX68ViMY/Ha2hoIL/Ko0ePtijC1atXiSLELbVa7eXlRfrExYsXT58+fciQIe7u7vecH+rUqdPgwYOnTZuWkJCQnJycnp7+0ksvAUDPnj2Li4tpfN7CwkIybL99+zZXMb/44gvyUHXmzINzz7YXsRCRtDEXLly4dOkSAPj5+VkaISsr67HHHgOAyZMn6/V6tVrt7u5O+ggjEomkX79+LeeH8vLyWndGGo0mLCyMPJ/SyCD3zjvvAMD06dO5Dfvyyy8DgK+v7wNTwrYjsUheuO3btzc1NQkEAqFQqNFoLA1y7tw5mUy2YsUKRCwqKiI7HOVyOWmHLGoefv/99yeeeAIAEhISLK2GabRaLXnBZeJFmXU0NjaSZQTjxo0zvYCgHYn15ptvAsCqVasQkUw9kMkzSzHaM2fOHACYOnWq1VU6cOCAUCjk8Xjbtm2zOkhrdu7cCQB9+vSxfdjeGrVaTSYa33vvPROXtSOxPvvsMwCYM2cOIpKs4D///LPV0a5du+bk5CQQCEi+Qqv58MMP3dw8o6KKrl2zJcyfGD16NACsXr2as4h/Zt++fQKBgM/nm8ih147E2rt3r3HGYe7cuQDwn//8x+poMTExACCXy22slcFgeOWVWgB86im8f+ZoCyDDdrFYzOGwvTULFy50c3PbuXPn/S5oR+cVkpnJnJwcAPD19QWA3Nxc60JlZWVt3bpVIpEk2Lx+mcfjrVnj2r8/XLwIr7xiYzAAgPXr1+v1+smTJ5PjPyghkUhqamqUSuV9r6AndVvDOONQV1dn3YyDkWnTZgPAggULuKrb1asolSIAfvyxTXGMw3aqh6iZU0o7EgvvzDhkZWVZPeOAiIcOoUjUPHLkZ2VlZRzWLTUVeTwUCtGWJ7nt27cDgL+/P41hu5EdO3bAgx4O2lFXCHd6w9zcXB8fH4FAUFBQoNVqLQ2yeDFoNKLw8NfInBZXPPccvPUW6HQwfbqVm+y1Wu26desA4NVXXyW50Cmxfv36B5ZCa8Nq28Q4zBKLxZ6entevX1er1WS8ZSa7dkF6OnTuDG+8wWXFCgrA2xuWL4fsbJg6FYqLgVQqLw969brH9VqtQa3Oz8nJyc3NvXbtWm5ubk5OjlqtdnV1FYlEZL0XJQoLC/fu3SsWi2fOnGnisvYlVssx+9KlS3k8nkWtjsEA77wDALB0KXTsyGXFXn8ddu8GgQDCwgARhgyBs2fBywsWLIAff4TCQsjP/9OfgoLGysre+Oe8cwKBABE1Gk18fHxKSgqX9WsBeTiYPn266YeD9iVWywfD2bNnW3r7li1w7hz07AlyOfd1a8kLL8DixfD99wAA/fpBTs7dFwgEHQYNGiaTdfT19fW7g7e39/Xr14cOHbp58+ahQ4fGxcVxXjGdTrdhwwYAkD/ov4CH7Snb4vXr1729vbt06XLixAkvLy+LBiJaLfTtC3l5sHEjvPgixxWLiACyI+7sWfjHP+DKFZBKoVcv2LQJGhrg1Cno1w/69wcfnz/+9O0LLi73DpWamjpx4kSBQLB//37j9juu2LFjx6RJk/z9/S9duvSA/z16zw5tkD179ri5uRnXrPbr1y82NlahUKSlpT3wHNeyMpwyBfv3RxqHjo0d+8cXK1diSgomJKBGg+PH49ixpnZ53I9FixYBgIeHR1FREbf1HDlyJACsXbv2gVe2I7F27txJlPLz8yNvf1vi4THA3R3DwlAux7Vr8cgRrK3948aICCQnSi1YwM3keGuef/6PLz76CDdvRvJW+sgRjIy0JpperycGhISE2LJp4C7UarVAIJBIJOYsnW0vYimVSicnJwB47bXXyOxLeXn5wYMH161b9+qrr4aFhUVErCAbDI1/eDz08cHERAwLw1mzEBEtX9jsMMrLy8lOu9dff52rmGQbWWxsrDkXtwuxvv/+e6FQCACLFi0ycdnNm6hS4dq1KJdjWBi6uCAAvvkmTp6M//437t79MImFiGfOnCE5fzZs2GB7NK1W++STTwLA0aNHzbn+0RcrJSWFnGgXT/IxmI1Wi5cuYUEBTp6Mzc04diyOGUOpjrQgM5kSieT06dM2htq6dSsA9O3b18w5/UdcrKSkJLKv0PTiIdNMnoyIuG8fSqWcVcxuvPLKKwDg5eVl4wuov/71rwDwySefmHn9oyzW559/zuPxeDzex7a92jUmVfjkE+R0QZ49aGpqIgfbPvvss1avgc7Pz+fz+c7OzubveGuLYuXl5aWnp69fv76wsNDqIKtWrQIAHo9ny6KrlmRkIAB26YJW5chwJIWFhWSW/F2Si8sSysvLMzIynnvuOQB4keTGMY82J1ZmZqZMJiPpQADAx8dHLpenpaU1NTWZH4TsNubz+d988w2HdQsN5WBli0PYv38/WfO5e/fu+13TeuOaT4tMu1FRUceOHTO/xLYl1pEjR0hCh+Dg4Oeff75lth1XV9cJEyZ8+eWX1x+UlINsUBEIBGbugDOfXbsQALt2xYYGbgPbgw8++AAA3N3dc3NzKyoqTp48uWXLlmXLls2cOXPYsGH3e2fq5uY2aNCgqVOnWprxoA2JdejQoY4dOwLAtGnTtFotIup0uszMzMTExKCgoJYvEIzNWMscNYhoMBj+9a9/Eau+++47GpUcPPhhTeloMBgmTpwId/IOt6Zjx46DBg2KiYlZsmTJhg0bjh49anV+Cmw7Yv3yyy/kA8+YMYNYhYhnzpwxpsUqKSlRKpWxsbEtN4U6OztHR0crFIpLly4ZDAby2lUkEm3fvp1SPbdvRwDs3h0t6ZnbCtXV1QkJCT4+PmKx2MfHZ9y4caY3P9pCmxDrp59+Irms5syZ03K3mqenp0AgCAoKSkxMzMzMJJ9cq9UePnx48eLFAwcObNmMkfGpRCIxsXXEdgwGfPppBMAvvqBXCF0euNeUExwvVlpaGnmFN3fu3Ja/NOXl5ZGRkULh/xb2PPnkk7Nnz1Yqlcb/mtu3b5NmTCaTOTs7u7q67tixg3aFt27VRUScHzJkohX7XdsPDhbrhx9+IK/wFi5ceM8L6urqVCpVXFwcychDIM1YfHz8kSNHSAun0+nIDt1du3bRrrNeryeZjL7++mvaZT28OFKszZs3kwbJzJctWVlZq1atioqKIuluCcuXLyffXbp0KQDMnz+fZpX/YPPmzeQZwjgcZNyFw8Rav349edlCUnFaRH19PWnGevbsaZxc2b9/PwAEBQVxXdN7oNPpyEwbjRxxjwaOEeuLL74gVpHsGrZgHJY1NjZKJBKBQEApddtdbNy4EQB8fX1p5Ip5BHCAWB9++CF52WLOQkSLICtxU1NTuQ17T3Q6HVlBv2XLFjsU99Bh732FK1euXLhwIY/H+/TTT9/gdgsVQFRUFAD89ttv3Ia9JwKBID4+HgC2bNlih+IePuxpcVFRkVQqFQgElIYmBw4cAICBAwfSCN4ajUbz/fffs/H7PbGrWJ9//rlIJLIidbGZkGEWn8/ndvM7wwrs2hX26NFDo9Hcvn0bAAwGw7lz545yeiKgRCIJDg42GAxHjhzhMCzDCuwqVkREhFAoPHnyZH19/d69ewcOHEgy6HPIX/7yF7DXMIthAruKRd6fa7Xa9PT08PBwJyenzMzM2tpaDotgYrUR7P1UaPzBu7q6BgUF6XS6Y8eOcRg/ODjY2dk5KyurrKyMw7AMS3GMWAcPHgQ6swNisTgkJAQRDx8+zGFYhqXYW6zhw4c7OTmdOnWqtraWUrdFwh46dIjbsAyLsLdYxh6QDLNEItHp06fJSfdc0bJRZDgKB2T0MzZULi4ugwcP1ul0tk86aDSa7Oxs8vWwYcM6dOhw8eJFMq/BcAgOE4vDYZZGo4mJiQkLCzt16hQAiESi7t27u7i4XL161fbaMqzE/nOy9fX1IpFIKBRWV1erVCoAGDJkiC3RyCZdmUx26tQpvJPEJzAwkL1scSCOWTYTGhoKAHv27KmvrxeLxQKBwLqF2HV1dSNGjAAADw+PrKwsg8Ewb948AHByctq6dSvn1WaYj2PEIglxSO6X8PBwsGpJcVVVFRG0a9eu2dnZBoPh9ddfBwCRSGSHle8M0zhGLHL6COkByZJi0wmGWlNZWRkcHAwAPXr0yMnJ0el0JKeoWCxOS0ujU2uGBThGLDLMIj1gQUHByZMnLVqHWVFRQRJdeHl55eXl6XS6WbNmAYCLi4tKpaJXbYb5OGzNOzkG0kQqgftRUlISEBAAAH369Llx44ZGo5k8eTIAdOjQwcZTtRkc4jCxyPFG5JA38ykuLu7fvz8A+Pv737x5s7m5mWwb79Sp0/HjxylVlWEFDhNr/vz5JBEFScSgVCrvOrX7npDGacCAAbdv325qaiLpddzd3TMyMuxQZ4b5OEasNWvWkJRoLfPJSCSSkSNHrlmz5sqVK/e7sbS0dNasWeXl5fX19eQwyy5dupw/f96elWeYgwPEapkSTa/XZ2ZmKhSK6Ojolrvpvb29STNmTArSkrq6OjJl7+HhceHCBft/BMYDsbdYJlKilZWVKZVKuVxOsvMShEJhWFiYQqEwJgWpqqoKCQkBAE9Pz2scnnfL4BS7imVmSjS9Xn/q1Kn33nsvJCSEJDwm9OjR48UXXyRnDnp7e1uaCoxhT+wklgH/SInm5OSkVCrNv7G2tjYtLU0ul3fv3p3oRU4jYla1cexxSBMCziuad/70+eMxx3/44QcyQWBxEMRz5879/PPPkyZNkkqlrc8sYbQpqItlAMOrha9+Xfa1hC/Z5bwruk801eIYbQS65xXqUf9y4cvJ5ckufJedPjuj3ZhV7QWKYulR/5L6pZSKlA78Dmm90p7p+Ay9shhtDY5XkGpRCwAn6k/UGmpjCmJSKlKkAqnKT8Wsam9w1mJ9Xfb1rzW/Pi58PMA54Hzj+QJNgapGJRPKfvX9dbDLYK5KYTwscCNWrb5WWaXc67sXAAxg+EfhPzydPDsLO6v8VE87P81JEYyHC266whvaG73Fve9E5APAB90+OO1/mlnVbuFGrK7CrmqNuuW/8IDnKfLkJDjjYYSbrlAmlD3t/PS8onm9xb0fE977VBZGu4LLCdIibVGVrspf4l+uK39c+LiAJ3jwPYxHFHu80mG0QxywE5rRHmBiMajAxGJQgYnFoAITi0EFJhaDCkwsBhWYWAwqMLEYVGBiMajAxGJQgYnFoAITi0EFJhaDCkwsBhWYWAwqMLEYVGBiMajAxGJQgYnFoAITi0EFJhaDCkwsBhWYWAwqMLEYVGBiMajAxGJQgYnFoAITi0EFJhaDCkwsBhWYWAwqMLEYVGBiMajAxGJQgYnFoAITi0EFJhaDCkwsBhWYWAwqMLEYVGBiMajAxGJQgYnFoML/A/EH5nM6oMIRAAACDHpUWHRyZGtpdFBLTCByZGtpdCAyMDIxLjAzLjQAAHice79v7T0GIOABYkYGCJAFYgUgbmBkY0gAiTOzO2gAaWZmNgjNwsYAoTkgNBM7QwaYhmpghtJMTIRoDIPhNNhAoEEIBkRGEOw0RtwKKDCCGxgEjEwJTMwKzCwaTMysCqxsDGzsDOwcDBycDJxcDFzcDEw8GUw8vAm8fAp8/BlM/AIJAoIZTIJCDILCCcIiGUy8ohlMomIKYuIZTOISCRKSGUySUgyS0gnSMkBxxgQZsQRuNgYRvgQRFlZGoDmibOwcnFzcbGz8AoLCInxs4hKS0jJi4rCIYJB9JLzU/v5c9gMgjth3Bfu5+133g9gexqvsH+3ntQexXyqaOMxQcgGzN9wPd3isyOUAYqfl5Dt47b+8D8QOs1rusOezL5g95f4Rh2n7N4DN2Z78xcG6byqY7avI7PhVMdUOxI6Z+8IhdulmsJmWkjsdmEpmgNkh7yfaKay4AGbLPGjfP0m+Asx+d17iQPvxq2B2d5rMgemXvMBuyHIrPFC6rhzMvua+8EDjbBcw+9j20wfiywvB7I6a+QeiI0+C9RpIZh2wco4HsxtjI/c3MrKA3fa+7Nt+kx3HwWztKeEHghwng9mKNn0Hkmt4wOFzubHpQO/kTDD7/uclBxabTwOzv6zSOFD/vBHM3tl7fL/LZwdIeAIA0WKSxVv7zhYAAAIOelRYdE1PTCByZGtpdCAyMDIxLjAzLjQAAHicnVbLbtswELzrK/YHTOyT5J7rnIKmQA/5hwA99v/RpcgwCpACzgqCMWuao9khOfIB4/p9f377C/vi+3EAOwgD4Je3u8MrI+Ixfk+Fu7cANy5EjuM7LDGK8AP+R3G9jzmjcu+DBUtrbBeWl8dZqAifWmKumbScFi6dtM65rVbOsUiRJjj5yLpcWH59h6Up4fRFSWrOFyvM5pOFkSjXUY0+ePRxC5879hxLK1UaTxaqXXMsvZDbcoNZ0lq4Os+doyiWY7HSuspkIaf0CeBuOFmq4HWNHl/p8BQrrT589fZtLXGSpbe2tDRMs6jOlZFYac/tulucgOo+WXrDnLs3K6hzrhRsnGSpRVYeyEgpv7L8eZhFi3ddK20rIzK+VGtr3/fGSXdjrp4rE8jIao6FirPZRFZRsh3JzIORDIa5ZAh3VbXP/RcZkfRFY5ecmT18Vk/6YtHH1KKlun7y5fH9wpEHpkuVeS6lxsrY+XaOjpA0lZhhJp+fowgUDeksJlojgewcX0XdI4HaLgL1XQTyXTiMFJ1FoPHCWgUBfSgQoK0gEOkuFEYIrjkGVPdIBWq7aEB9Fx1oK4hiZMQcCTSO16Zm3iMM44U45wTirSDQ+BOzCgPeCgLx9mAUW0GgESmbGj6e4+dzlgK+mBjC6P05PwGeXu7HP2aFhaHh6CaFAAABZXpUWHRTTUlMRVMgcmRraXQgMjAyMS4wMy40AAB4nD2RS47cMAxEr5JlNyAL/H9gZNX75BDeBnOCOXyKChBvLJfJR1bp88XP6/P6+fv96yOfeeT99byuR54HP/68n0feD18P///mH98v3lIduS7ZzE28btohlVBoZ4q5r5u3Skcv2u6a1OuWXWyeUDKCXdetW1NJFzheKiOkUfdwjNXRfvsW8TpoIWYBOlAugirMKCoouUOTcxSOsnXX5vZQzBLRDJkSiRZevI3UasBZpgqBm8nGhJQTuAwaMfYDjs6mtGFFZkN41so4RUnsRzHDjKWY3QjjgovoFgiVRNPkm2xOuikZ/u4rtiKEgoLATpftLm0H2BGKHU545kRYKTwcnKypdNJw9hgfWLIFiePtQfpvAUUKcuJwMj10M0Myc2ftcx2QKEvRiDnWoWdPdpt7tB1t0sddqAMx5d7OZ6D7XDsaiQ35v7//AlLieEqsTC2OAAAAAElFTkSuQmCC\" alt=\"Mol\"/></td>\n",
       "      <td>[0, 0, 1, 0, 1, 0, 0, 0, 0, 0, 0, 0, 0, 0, 0, ...</td>\n",
       "    </tr>\n",
       "  </tbody>\n",
       "</table>\n",
       "</div>"
      ],
      "text/plain": [
       "                                    canonical_smiles  label  \\\n",
       "0  Cn1c(C(=O)NN2CCCCC2)nc(-c2ccc(Cl)cc2)c1-c1ccc(...    1.0   \n",
       "1  Cn1c(C(=O)NC2CCCCC2)nc(-c2ccc(Cl)cc2)c1-c1ccc(...    1.0   \n",
       "\n",
       "                                               ROMol  \\\n",
       "0  <img data-content=\"rdkit/molecule\" src=\"data:i...   \n",
       "1  <img data-content=\"rdkit/molecule\" src=\"data:i...   \n",
       "\n",
       "                                              morgan  \n",
       "0  [0, 0, 1, 0, 1, 0, 0, 0, 0, 0, 0, 0, 0, 0, 0, ...  \n",
       "1  [0, 0, 1, 0, 1, 0, 0, 0, 0, 0, 0, 0, 0, 0, 0, ...  "
      ]
     },
     "execution_count": 100,
     "metadata": {},
     "output_type": "execute_result"
    }
   ],
   "source": [
    "print(\"Data set contains N =\", df.shape[0], \"data points\")\n",
    "# Display first two data points (rows)\n",
    "df.head(2)"
   ]
  },
  {
   "cell_type": "markdown",
   "id": "2d272b4e",
   "metadata": {},
   "source": [
    "* Each data point is a compound that is tested in bioassay for its bioactivity at the molecular target. \n",
    "* The \"active\" label indicates whether this compound is regard as \"active (1)\" or \"inactive (0)\"\n",
    "* The ratio between active/inactive is kept at 1:4\n",
    "\n",
    "* Molecular fingerprint Morgan (1024-bits) is used as attributes. "
   ]
  },
  {
   "cell_type": "code",
   "execution_count": 206,
   "id": "fdfa541a",
   "metadata": {},
   "outputs": [],
   "source": [
    "X_matrix=pd.DataFrame(columns=[i for i in range(df.shape[0])])"
   ]
  },
  {
   "cell_type": "code",
   "execution_count": 207,
   "id": "4be3d48c",
   "metadata": {},
   "outputs": [
    {
     "name": "stdout",
     "output_type": "stream",
     "text": [
      "156.43312096595764 s\n"
     ]
    }
   ],
   "source": [
    "fps = df['morgan'].to_list()\n",
    "start_time = time.time()\n",
    "for i in range(df.shape[0]):\n",
    "    fp_query = df.loc[i,\"morgan\"]\n",
    "    smis = DataStructs.BulkTanimotoSimilarity(fp_query, fps)\n",
    "    X_matrix.loc[i,:]= smis\n",
    "time_taken=time.time()-start_time\n",
    "print(time_taken, \"s\")"
   ]
  },
  {
   "cell_type": "code",
   "execution_count": 208,
   "id": "a38929e4",
   "metadata": {},
   "outputs": [
    {
     "data": {
      "text/html": [
       "<div>\n",
       "<style scoped>\n",
       "    .dataframe tbody tr th:only-of-type {\n",
       "        vertical-align: middle;\n",
       "    }\n",
       "\n",
       "    .dataframe tbody tr th {\n",
       "        vertical-align: top;\n",
       "    }\n",
       "\n",
       "    .dataframe thead th {\n",
       "        text-align: right;\n",
       "    }\n",
       "</style>\n",
       "<table border=\"1\" class=\"dataframe\">\n",
       "  <thead>\n",
       "    <tr style=\"text-align: right;\">\n",
       "      <th></th>\n",
       "      <th>0</th>\n",
       "      <th>1</th>\n",
       "      <th>2</th>\n",
       "      <th>3</th>\n",
       "      <th>4</th>\n",
       "      <th>5</th>\n",
       "      <th>6</th>\n",
       "      <th>7</th>\n",
       "      <th>8</th>\n",
       "      <th>9</th>\n",
       "      <th>...</th>\n",
       "      <th>3145</th>\n",
       "      <th>3146</th>\n",
       "      <th>3147</th>\n",
       "      <th>3148</th>\n",
       "      <th>3149</th>\n",
       "      <th>3150</th>\n",
       "      <th>3151</th>\n",
       "      <th>3152</th>\n",
       "      <th>3153</th>\n",
       "      <th>3154</th>\n",
       "    </tr>\n",
       "  </thead>\n",
       "  <tbody>\n",
       "    <tr>\n",
       "      <th>0</th>\n",
       "      <td>1.0</td>\n",
       "      <td>0.666667</td>\n",
       "      <td>0.784314</td>\n",
       "      <td>0.533333</td>\n",
       "      <td>0.166667</td>\n",
       "      <td>0.246753</td>\n",
       "      <td>0.240506</td>\n",
       "      <td>0.234568</td>\n",
       "      <td>0.171053</td>\n",
       "      <td>0.164557</td>\n",
       "      <td>...</td>\n",
       "      <td>0.116883</td>\n",
       "      <td>0.157143</td>\n",
       "      <td>0.109756</td>\n",
       "      <td>0.125</td>\n",
       "      <td>0.128571</td>\n",
       "      <td>0.088608</td>\n",
       "      <td>0.164384</td>\n",
       "      <td>0.125</td>\n",
       "      <td>0.166667</td>\n",
       "      <td>0.116279</td>\n",
       "    </tr>\n",
       "    <tr>\n",
       "      <th>1</th>\n",
       "      <td>0.666667</td>\n",
       "      <td>1.0</td>\n",
       "      <td>0.533333</td>\n",
       "      <td>0.788462</td>\n",
       "      <td>0.179487</td>\n",
       "      <td>0.25974</td>\n",
       "      <td>0.253165</td>\n",
       "      <td>0.2625</td>\n",
       "      <td>0.184211</td>\n",
       "      <td>0.148148</td>\n",
       "      <td>...</td>\n",
       "      <td>0.115385</td>\n",
       "      <td>0.242424</td>\n",
       "      <td>0.164557</td>\n",
       "      <td>0.123596</td>\n",
       "      <td>0.126761</td>\n",
       "      <td>0.074074</td>\n",
       "      <td>0.162162</td>\n",
       "      <td>0.1375</td>\n",
       "      <td>0.2375</td>\n",
       "      <td>0.127907</td>\n",
       "    </tr>\n",
       "    <tr>\n",
       "      <th>2</th>\n",
       "      <td>0.784314</td>\n",
       "      <td>0.533333</td>\n",
       "      <td>1.0</td>\n",
       "      <td>0.706897</td>\n",
       "      <td>0.272727</td>\n",
       "      <td>0.355263</td>\n",
       "      <td>0.346154</td>\n",
       "      <td>0.3375</td>\n",
       "      <td>0.28</td>\n",
       "      <td>0.207317</td>\n",
       "      <td>...</td>\n",
       "      <td>0.134146</td>\n",
       "      <td>0.128205</td>\n",
       "      <td>0.113636</td>\n",
       "      <td>0.115789</td>\n",
       "      <td>0.146667</td>\n",
       "      <td>0.094118</td>\n",
       "      <td>0.164557</td>\n",
       "      <td>0.114943</td>\n",
       "      <td>0.153846</td>\n",
       "      <td>0.119565</td>\n",
       "    </tr>\n",
       "    <tr>\n",
       "      <th>3</th>\n",
       "      <td>0.533333</td>\n",
       "      <td>0.788462</td>\n",
       "      <td>0.706897</td>\n",
       "      <td>1.0</td>\n",
       "      <td>0.285714</td>\n",
       "      <td>0.368421</td>\n",
       "      <td>0.358974</td>\n",
       "      <td>0.367089</td>\n",
       "      <td>0.293333</td>\n",
       "      <td>0.190476</td>\n",
       "      <td>...</td>\n",
       "      <td>0.13253</td>\n",
       "      <td>0.202703</td>\n",
       "      <td>0.164706</td>\n",
       "      <td>0.114583</td>\n",
       "      <td>0.144737</td>\n",
       "      <td>0.08046</td>\n",
       "      <td>0.1625</td>\n",
       "      <td>0.126437</td>\n",
       "      <td>0.218391</td>\n",
       "      <td>0.130435</td>\n",
       "    </tr>\n",
       "    <tr>\n",
       "      <th>4</th>\n",
       "      <td>0.166667</td>\n",
       "      <td>0.179487</td>\n",
       "      <td>0.272727</td>\n",
       "      <td>0.285714</td>\n",
       "      <td>1.0</td>\n",
       "      <td>0.471429</td>\n",
       "      <td>0.615385</td>\n",
       "      <td>0.597015</td>\n",
       "      <td>0.777778</td>\n",
       "      <td>0.151163</td>\n",
       "      <td>...</td>\n",
       "      <td>0.120482</td>\n",
       "      <td>0.073171</td>\n",
       "      <td>0.076923</td>\n",
       "      <td>0.070707</td>\n",
       "      <td>0.116883</td>\n",
       "      <td>0.068966</td>\n",
       "      <td>0.121951</td>\n",
       "      <td>0.054348</td>\n",
       "      <td>0.117021</td>\n",
       "      <td>0.084211</td>\n",
       "    </tr>\n",
       "    <tr>\n",
       "      <th>...</th>\n",
       "      <td>...</td>\n",
       "      <td>...</td>\n",
       "      <td>...</td>\n",
       "      <td>...</td>\n",
       "      <td>...</td>\n",
       "      <td>...</td>\n",
       "      <td>...</td>\n",
       "      <td>...</td>\n",
       "      <td>...</td>\n",
       "      <td>...</td>\n",
       "      <td>...</td>\n",
       "      <td>...</td>\n",
       "      <td>...</td>\n",
       "      <td>...</td>\n",
       "      <td>...</td>\n",
       "      <td>...</td>\n",
       "      <td>...</td>\n",
       "      <td>...</td>\n",
       "      <td>...</td>\n",
       "      <td>...</td>\n",
       "      <td>...</td>\n",
       "    </tr>\n",
       "    <tr>\n",
       "      <th>3150</th>\n",
       "      <td>0.088608</td>\n",
       "      <td>0.074074</td>\n",
       "      <td>0.094118</td>\n",
       "      <td>0.08046</td>\n",
       "      <td>0.068966</td>\n",
       "      <td>0.088889</td>\n",
       "      <td>0.086957</td>\n",
       "      <td>0.085106</td>\n",
       "      <td>0.070588</td>\n",
       "      <td>0.08046</td>\n",
       "      <td>...</td>\n",
       "      <td>0.08642</td>\n",
       "      <td>0.092105</td>\n",
       "      <td>0.094118</td>\n",
       "      <td>0.052083</td>\n",
       "      <td>0.125</td>\n",
       "      <td>1.0</td>\n",
       "      <td>0.12987</td>\n",
       "      <td>0.057471</td>\n",
       "      <td>0.123596</td>\n",
       "      <td>0.113636</td>\n",
       "    </tr>\n",
       "    <tr>\n",
       "      <th>3151</th>\n",
       "      <td>0.164384</td>\n",
       "      <td>0.162162</td>\n",
       "      <td>0.164557</td>\n",
       "      <td>0.1625</td>\n",
       "      <td>0.121951</td>\n",
       "      <td>0.227848</td>\n",
       "      <td>0.207317</td>\n",
       "      <td>0.188235</td>\n",
       "      <td>0.139241</td>\n",
       "      <td>0.107143</td>\n",
       "      <td>...</td>\n",
       "      <td>0.12987</td>\n",
       "      <td>0.138889</td>\n",
       "      <td>0.260274</td>\n",
       "      <td>0.162791</td>\n",
       "      <td>0.176471</td>\n",
       "      <td>0.12987</td>\n",
       "      <td>1.0</td>\n",
       "      <td>0.123457</td>\n",
       "      <td>0.164706</td>\n",
       "      <td>0.2125</td>\n",
       "    </tr>\n",
       "    <tr>\n",
       "      <th>3152</th>\n",
       "      <td>0.125</td>\n",
       "      <td>0.1375</td>\n",
       "      <td>0.114943</td>\n",
       "      <td>0.126437</td>\n",
       "      <td>0.054348</td>\n",
       "      <td>0.096774</td>\n",
       "      <td>0.106383</td>\n",
       "      <td>0.115789</td>\n",
       "      <td>0.043956</td>\n",
       "      <td>0.088889</td>\n",
       "      <td>...</td>\n",
       "      <td>0.069767</td>\n",
       "      <td>0.12987</td>\n",
       "      <td>0.168675</td>\n",
       "      <td>0.141304</td>\n",
       "      <td>0.089744</td>\n",
       "      <td>0.057471</td>\n",
       "      <td>0.123457</td>\n",
       "      <td>1.0</td>\n",
       "      <td>0.130435</td>\n",
       "      <td>0.120879</td>\n",
       "    </tr>\n",
       "    <tr>\n",
       "      <th>3153</th>\n",
       "      <td>0.166667</td>\n",
       "      <td>0.2375</td>\n",
       "      <td>0.153846</td>\n",
       "      <td>0.218391</td>\n",
       "      <td>0.117021</td>\n",
       "      <td>0.208791</td>\n",
       "      <td>0.191489</td>\n",
       "      <td>0.1875</td>\n",
       "      <td>0.131868</td>\n",
       "      <td>0.092784</td>\n",
       "      <td>...</td>\n",
       "      <td>0.086957</td>\n",
       "      <td>0.202532</td>\n",
       "      <td>0.206897</td>\n",
       "      <td>0.177083</td>\n",
       "      <td>0.120482</td>\n",
       "      <td>0.123596</td>\n",
       "      <td>0.164706</td>\n",
       "      <td>0.130435</td>\n",
       "      <td>1.0</td>\n",
       "      <td>0.182796</td>\n",
       "    </tr>\n",
       "    <tr>\n",
       "      <th>3154</th>\n",
       "      <td>0.116279</td>\n",
       "      <td>0.127907</td>\n",
       "      <td>0.119565</td>\n",
       "      <td>0.130435</td>\n",
       "      <td>0.084211</td>\n",
       "      <td>0.148936</td>\n",
       "      <td>0.122449</td>\n",
       "      <td>0.12</td>\n",
       "      <td>0.10989</td>\n",
       "      <td>0.083333</td>\n",
       "      <td>...</td>\n",
       "      <td>0.126437</td>\n",
       "      <td>0.256757</td>\n",
       "      <td>0.211765</td>\n",
       "      <td>0.11</td>\n",
       "      <td>0.1375</td>\n",
       "      <td>0.113636</td>\n",
       "      <td>0.2125</td>\n",
       "      <td>0.120879</td>\n",
       "      <td>0.182796</td>\n",
       "      <td>1.0</td>\n",
       "    </tr>\n",
       "  </tbody>\n",
       "</table>\n",
       "<p>3155 rows × 3155 columns</p>\n",
       "</div>"
      ],
      "text/plain": [
       "          0         1         2         3         4         5         6     \\\n",
       "0          1.0  0.666667  0.784314  0.533333  0.166667  0.246753  0.240506   \n",
       "1     0.666667       1.0  0.533333  0.788462  0.179487   0.25974  0.253165   \n",
       "2     0.784314  0.533333       1.0  0.706897  0.272727  0.355263  0.346154   \n",
       "3     0.533333  0.788462  0.706897       1.0  0.285714  0.368421  0.358974   \n",
       "4     0.166667  0.179487  0.272727  0.285714       1.0  0.471429  0.615385   \n",
       "...        ...       ...       ...       ...       ...       ...       ...   \n",
       "3150  0.088608  0.074074  0.094118   0.08046  0.068966  0.088889  0.086957   \n",
       "3151  0.164384  0.162162  0.164557    0.1625  0.121951  0.227848  0.207317   \n",
       "3152     0.125    0.1375  0.114943  0.126437  0.054348  0.096774  0.106383   \n",
       "3153  0.166667    0.2375  0.153846  0.218391  0.117021  0.208791  0.191489   \n",
       "3154  0.116279  0.127907  0.119565  0.130435  0.084211  0.148936  0.122449   \n",
       "\n",
       "          7         8         9     ...      3145      3146      3147  \\\n",
       "0     0.234568  0.171053  0.164557  ...  0.116883  0.157143  0.109756   \n",
       "1       0.2625  0.184211  0.148148  ...  0.115385  0.242424  0.164557   \n",
       "2       0.3375      0.28  0.207317  ...  0.134146  0.128205  0.113636   \n",
       "3     0.367089  0.293333  0.190476  ...   0.13253  0.202703  0.164706   \n",
       "4     0.597015  0.777778  0.151163  ...  0.120482  0.073171  0.076923   \n",
       "...        ...       ...       ...  ...       ...       ...       ...   \n",
       "3150  0.085106  0.070588   0.08046  ...   0.08642  0.092105  0.094118   \n",
       "3151  0.188235  0.139241  0.107143  ...   0.12987  0.138889  0.260274   \n",
       "3152  0.115789  0.043956  0.088889  ...  0.069767   0.12987  0.168675   \n",
       "3153    0.1875  0.131868  0.092784  ...  0.086957  0.202532  0.206897   \n",
       "3154      0.12   0.10989  0.083333  ...  0.126437  0.256757  0.211765   \n",
       "\n",
       "          3148      3149      3150      3151      3152      3153      3154  \n",
       "0        0.125  0.128571  0.088608  0.164384     0.125  0.166667  0.116279  \n",
       "1     0.123596  0.126761  0.074074  0.162162    0.1375    0.2375  0.127907  \n",
       "2     0.115789  0.146667  0.094118  0.164557  0.114943  0.153846  0.119565  \n",
       "3     0.114583  0.144737   0.08046    0.1625  0.126437  0.218391  0.130435  \n",
       "4     0.070707  0.116883  0.068966  0.121951  0.054348  0.117021  0.084211  \n",
       "...        ...       ...       ...       ...       ...       ...       ...  \n",
       "3150  0.052083     0.125       1.0   0.12987  0.057471  0.123596  0.113636  \n",
       "3151  0.162791  0.176471   0.12987       1.0  0.123457  0.164706    0.2125  \n",
       "3152  0.141304  0.089744  0.057471  0.123457       1.0  0.130435  0.120879  \n",
       "3153  0.177083  0.120482  0.123596  0.164706  0.130435       1.0  0.182796  \n",
       "3154      0.11    0.1375  0.113636    0.2125  0.120879  0.182796       1.0  \n",
       "\n",
       "[3155 rows x 3155 columns]"
      ]
     },
     "execution_count": 208,
     "metadata": {},
     "output_type": "execute_result"
    }
   ],
   "source": [
    "X_matrix"
   ]
  },
  {
   "cell_type": "markdown",
   "id": "66e8669f",
   "metadata": {},
   "source": [
    "#### Preprocess data set"
   ]
  },
  {
   "cell_type": "code",
   "execution_count": 209,
   "id": "ec426a9d",
   "metadata": {},
   "outputs": [
    {
     "name": "stdout",
     "output_type": "stream",
     "text": [
      "3155\n",
      "Total number of actives =  631.0\n"
     ]
    }
   ],
   "source": [
    "# true label\n",
    "Y = df.label\n",
    "print(len(Y))\n",
    "print(\"Total number of actives = \", sum(Y))"
   ]
  },
  {
   "cell_type": "markdown",
   "id": "35e4de06",
   "metadata": {},
   "source": [
    "#### Setup algorithms\n",
    "We will use default settting for most parameters"
   ]
  },
  {
   "cell_type": "code",
   "execution_count": 266,
   "id": "6b729b2a",
   "metadata": {},
   "outputs": [],
   "source": [
    "k_means = sklearn.cluster.KMeans(n_clusters=12)\n",
    "dbscan = sklearn.cluster.DBSCAN()\n",
    "agglomerative = sklearn.cluster.AgglomerativeClustering()\n",
    "spectral = sklearn.cluster.SpectralClustering()\n",
    "affinity_prop = sklearn.cluster.AffinityPropagation(random_state=None)"
   ]
  },
  {
   "cell_type": "code",
   "execution_count": 30,
   "id": "cbaa7440",
   "metadata": {},
   "outputs": [
    {
     "data": {
      "text/plain": [
       "AgglomerativeClustering()"
      ]
     },
     "execution_count": 30,
     "metadata": {},
     "output_type": "execute_result"
    }
   ],
   "source": [
    "agglomerative"
   ]
  },
  {
   "cell_type": "markdown",
   "id": "4f012d81",
   "metadata": {},
   "source": [
    "#### Use one algorithm"
   ]
  },
  {
   "cell_type": "code",
   "execution_count": 267,
   "id": "2d55a786",
   "metadata": {},
   "outputs": [],
   "source": [
    "#Apply the algorithm to the X_df (features) and predict cluster label for each sample (object)\n",
    "df[\"kmeans\"] = k_means.fit_predict(X_df)"
   ]
  },
  {
   "cell_type": "markdown",
   "id": "80aeeb3d",
   "metadata": {},
   "source": [
    "### Evaluate clustering performance\n",
    "For ChEMBL data sets, the success of clustering is evaluated according to how well the actives can be separated from inactives. \n",
    "\n",
    "#### QPI\n",
    "* Identify active cluster vs. inactive cluster (non-singleton cluster for which the percentrage of active molecules in the cluster is greater than the percentrage of active molecules in the dataset as a whole)\n",
    "* percent active = 20% \n",
    "* p = number of active molecules in the active clusters\n",
    "* q = number of inactive molecules in the active clusters\n",
    "* r = number of active molecules in the inactive clusters\n",
    "* s = number of singleton active molecules\n",
    "* QPI = p/(p+q+r+s)\n",
    "   "
   ]
  },
  {
   "cell_type": "code",
   "execution_count": 268,
   "id": "9dc139e6",
   "metadata": {},
   "outputs": [
    {
     "data": {
      "text/html": [
       "<div>\n",
       "<style scoped>\n",
       "    .dataframe tbody tr th:only-of-type {\n",
       "        vertical-align: middle;\n",
       "    }\n",
       "\n",
       "    .dataframe tbody tr th {\n",
       "        vertical-align: top;\n",
       "    }\n",
       "\n",
       "    .dataframe thead th {\n",
       "        text-align: right;\n",
       "    }\n",
       "</style>\n",
       "<table border=\"1\" class=\"dataframe\">\n",
       "  <thead>\n",
       "    <tr style=\"text-align: right;\">\n",
       "      <th></th>\n",
       "      <th>canonical_smiles</th>\n",
       "      <th>label</th>\n",
       "      <th>ROMol</th>\n",
       "      <th>morgan</th>\n",
       "    </tr>\n",
       "    <tr>\n",
       "      <th>kmeans</th>\n",
       "      <th></th>\n",
       "      <th></th>\n",
       "      <th></th>\n",
       "      <th></th>\n",
       "    </tr>\n",
       "  </thead>\n",
       "  <tbody>\n",
       "    <tr>\n",
       "      <th>0</th>\n",
       "      <td>942</td>\n",
       "      <td>942</td>\n",
       "      <td>942</td>\n",
       "      <td>942</td>\n",
       "    </tr>\n",
       "    <tr>\n",
       "      <th>1</th>\n",
       "      <td>43</td>\n",
       "      <td>43</td>\n",
       "      <td>43</td>\n",
       "      <td>43</td>\n",
       "    </tr>\n",
       "    <tr>\n",
       "      <th>2</th>\n",
       "      <td>153</td>\n",
       "      <td>153</td>\n",
       "      <td>153</td>\n",
       "      <td>153</td>\n",
       "    </tr>\n",
       "    <tr>\n",
       "      <th>3</th>\n",
       "      <td>40</td>\n",
       "      <td>40</td>\n",
       "      <td>40</td>\n",
       "      <td>40</td>\n",
       "    </tr>\n",
       "    <tr>\n",
       "      <th>4</th>\n",
       "      <td>145</td>\n",
       "      <td>145</td>\n",
       "      <td>145</td>\n",
       "      <td>145</td>\n",
       "    </tr>\n",
       "    <tr>\n",
       "      <th>5</th>\n",
       "      <td>46</td>\n",
       "      <td>46</td>\n",
       "      <td>46</td>\n",
       "      <td>46</td>\n",
       "    </tr>\n",
       "    <tr>\n",
       "      <th>6</th>\n",
       "      <td>701</td>\n",
       "      <td>701</td>\n",
       "      <td>701</td>\n",
       "      <td>701</td>\n",
       "    </tr>\n",
       "    <tr>\n",
       "      <th>7</th>\n",
       "      <td>838</td>\n",
       "      <td>838</td>\n",
       "      <td>838</td>\n",
       "      <td>838</td>\n",
       "    </tr>\n",
       "    <tr>\n",
       "      <th>8</th>\n",
       "      <td>28</td>\n",
       "      <td>28</td>\n",
       "      <td>28</td>\n",
       "      <td>28</td>\n",
       "    </tr>\n",
       "    <tr>\n",
       "      <th>9</th>\n",
       "      <td>47</td>\n",
       "      <td>47</td>\n",
       "      <td>47</td>\n",
       "      <td>47</td>\n",
       "    </tr>\n",
       "    <tr>\n",
       "      <th>10</th>\n",
       "      <td>112</td>\n",
       "      <td>112</td>\n",
       "      <td>112</td>\n",
       "      <td>112</td>\n",
       "    </tr>\n",
       "    <tr>\n",
       "      <th>11</th>\n",
       "      <td>60</td>\n",
       "      <td>60</td>\n",
       "      <td>60</td>\n",
       "      <td>60</td>\n",
       "    </tr>\n",
       "  </tbody>\n",
       "</table>\n",
       "</div>"
      ],
      "text/plain": [
       "        canonical_smiles  label  ROMol  morgan\n",
       "kmeans                                        \n",
       "0                    942    942    942     942\n",
       "1                     43     43     43      43\n",
       "2                    153    153    153     153\n",
       "3                     40     40     40      40\n",
       "4                    145    145    145     145\n",
       "5                     46     46     46      46\n",
       "6                    701    701    701     701\n",
       "7                    838    838    838     838\n",
       "8                     28     28     28      28\n",
       "9                     47     47     47      47\n",
       "10                   112    112    112     112\n",
       "11                    60     60     60      60"
      ]
     },
     "execution_count": 268,
     "metadata": {},
     "output_type": "execute_result"
    }
   ],
   "source": [
    "df.groupby([\"kmeans\"]).count()"
   ]
  },
  {
   "cell_type": "code",
   "execution_count": 269,
   "id": "bfd1b7f7",
   "metadata": {},
   "outputs": [
    {
     "data": {
      "text/html": [
       "<div>\n",
       "<style scoped>\n",
       "    .dataframe tbody tr th:only-of-type {\n",
       "        vertical-align: middle;\n",
       "    }\n",
       "\n",
       "    .dataframe tbody tr th {\n",
       "        vertical-align: top;\n",
       "    }\n",
       "\n",
       "    .dataframe thead th {\n",
       "        text-align: right;\n",
       "    }\n",
       "</style>\n",
       "<table border=\"1\" class=\"dataframe\">\n",
       "  <thead>\n",
       "    <tr style=\"text-align: right;\">\n",
       "      <th></th>\n",
       "      <th>label</th>\n",
       "    </tr>\n",
       "    <tr>\n",
       "      <th>kmeans</th>\n",
       "      <th></th>\n",
       "    </tr>\n",
       "  </thead>\n",
       "  <tbody>\n",
       "    <tr>\n",
       "      <th>0</th>\n",
       "      <td>69.0</td>\n",
       "    </tr>\n",
       "    <tr>\n",
       "      <th>1</th>\n",
       "      <td>42.0</td>\n",
       "    </tr>\n",
       "    <tr>\n",
       "      <th>2</th>\n",
       "      <td>2.0</td>\n",
       "    </tr>\n",
       "    <tr>\n",
       "      <th>3</th>\n",
       "      <td>37.0</td>\n",
       "    </tr>\n",
       "    <tr>\n",
       "      <th>4</th>\n",
       "      <td>145.0</td>\n",
       "    </tr>\n",
       "    <tr>\n",
       "      <th>5</th>\n",
       "      <td>46.0</td>\n",
       "    </tr>\n",
       "    <tr>\n",
       "      <th>6</th>\n",
       "      <td>41.0</td>\n",
       "    </tr>\n",
       "    <tr>\n",
       "      <th>7</th>\n",
       "      <td>49.0</td>\n",
       "    </tr>\n",
       "    <tr>\n",
       "      <th>8</th>\n",
       "      <td>28.0</td>\n",
       "    </tr>\n",
       "    <tr>\n",
       "      <th>9</th>\n",
       "      <td>0.0</td>\n",
       "    </tr>\n",
       "    <tr>\n",
       "      <th>10</th>\n",
       "      <td>112.0</td>\n",
       "    </tr>\n",
       "    <tr>\n",
       "      <th>11</th>\n",
       "      <td>60.0</td>\n",
       "    </tr>\n",
       "  </tbody>\n",
       "</table>\n",
       "</div>"
      ],
      "text/plain": [
       "        label\n",
       "kmeans       \n",
       "0        69.0\n",
       "1        42.0\n",
       "2         2.0\n",
       "3        37.0\n",
       "4       145.0\n",
       "5        46.0\n",
       "6        41.0\n",
       "7        49.0\n",
       "8        28.0\n",
       "9         0.0\n",
       "10      112.0\n",
       "11       60.0"
      ]
     },
     "execution_count": 269,
     "metadata": {},
     "output_type": "execute_result"
    }
   ],
   "source": [
    "df.groupby([\"kmeans\"]).sum()"
   ]
  },
  {
   "cell_type": "code",
   "execution_count": 270,
   "id": "de3063ab",
   "metadata": {},
   "outputs": [],
   "source": [
    "actives = df.groupby([\"kmeans\"]).sum()[\"label\"]"
   ]
  },
  {
   "cell_type": "code",
   "execution_count": 271,
   "id": "f172f2b8",
   "metadata": {},
   "outputs": [
    {
     "data": {
      "text/plain": [
       "631.0"
      ]
     },
     "execution_count": 271,
     "metadata": {},
     "output_type": "execute_result"
    }
   ],
   "source": [
    "sum(actives)"
   ]
  },
  {
   "cell_type": "code",
   "execution_count": 272,
   "id": "ab1dfbe2",
   "metadata": {},
   "outputs": [],
   "source": [
    "count = df.groupby([\"kmeans\"]).count()[\"canonical_smiles\"]"
   ]
  },
  {
   "cell_type": "code",
   "execution_count": 273,
   "id": "806b95d4",
   "metadata": {},
   "outputs": [
    {
     "data": {
      "text/plain": [
       "3155"
      ]
     },
     "execution_count": 273,
     "metadata": {},
     "output_type": "execute_result"
    }
   ],
   "source": [
    "sum(count)"
   ]
  },
  {
   "cell_type": "code",
   "execution_count": 274,
   "id": "1a5763d3",
   "metadata": {},
   "outputs": [
    {
     "name": "stdout",
     "output_type": "stream",
     "text": [
      "cluster 0\n",
      "inactive clusters\n",
      "cluster 1\n",
      "active clusters\n",
      "active molecules in active clusters 42.0\n",
      "inactive molecules in active clusters 1.0\n",
      "cluster 2\n",
      "inactive clusters\n",
      "cluster 3\n",
      "active clusters\n",
      "active molecules in active clusters 37.0\n",
      "inactive molecules in active clusters 3.0\n",
      "cluster 4\n",
      "active clusters\n",
      "active molecules in active clusters 145.0\n",
      "inactive molecules in active clusters 0.0\n",
      "cluster 5\n",
      "active clusters\n",
      "active molecules in active clusters 46.0\n",
      "inactive molecules in active clusters 0.0\n",
      "cluster 6\n",
      "inactive clusters\n",
      "cluster 7\n",
      "inactive clusters\n",
      "cluster 8\n",
      "active clusters\n",
      "active molecules in active clusters 28.0\n",
      "inactive molecules in active clusters 0.0\n",
      "cluster 9\n",
      "inactive clusters\n",
      "cluster 10\n",
      "active clusters\n",
      "active molecules in active clusters 112.0\n",
      "inactive molecules in active clusters 0.0\n",
      "cluster 11\n",
      "active clusters\n",
      "active molecules in active clusters 60.0\n",
      "inactive molecules in active clusters 0.0\n"
     ]
    }
   ],
   "source": [
    "p,q,r,s=0,0,0,0\n",
    "\n",
    "for i in range(len(actives)):\n",
    "    print(\"cluster\", i)\n",
    "    if actives[i]/count[i] >= 0.20:\n",
    "        if actives[i] != 1:\n",
    "            print(\"active clusters\")\n",
    "            print(\"active molecules in active clusters\", actives[i])\n",
    "            p += actives[i]\n",
    "            print(\"inactive molecules in active clusters\", count[i]-actives[i])\n",
    "            q += (count[i]-actives[i])\n",
    "        else:\n",
    "            s += actives[i]\n",
    "    else:\n",
    "        print(\"inactive clusters\")\n",
    "        r += actives[i]"
   ]
  },
  {
   "cell_type": "code",
   "execution_count": 275,
   "id": "a6e329b5",
   "metadata": {},
   "outputs": [
    {
     "data": {
      "text/plain": [
       "470.0"
      ]
     },
     "execution_count": 275,
     "metadata": {},
     "output_type": "execute_result"
    }
   ],
   "source": [
    "p"
   ]
  },
  {
   "cell_type": "code",
   "execution_count": 276,
   "id": "5533371e",
   "metadata": {},
   "outputs": [
    {
     "data": {
      "text/plain": [
       "4.0"
      ]
     },
     "execution_count": 276,
     "metadata": {},
     "output_type": "execute_result"
    }
   ],
   "source": [
    "q"
   ]
  },
  {
   "cell_type": "code",
   "execution_count": 277,
   "id": "59abc87e",
   "metadata": {},
   "outputs": [
    {
     "data": {
      "text/plain": [
       "161.0"
      ]
     },
     "execution_count": 277,
     "metadata": {},
     "output_type": "execute_result"
    }
   ],
   "source": [
    "r"
   ]
  },
  {
   "cell_type": "code",
   "execution_count": 278,
   "id": "38be583d",
   "metadata": {},
   "outputs": [
    {
     "data": {
      "text/plain": [
       "0"
      ]
     },
     "execution_count": 278,
     "metadata": {},
     "output_type": "execute_result"
    }
   ],
   "source": [
    "s"
   ]
  },
  {
   "cell_type": "code",
   "execution_count": 279,
   "id": "3e4c8a1c",
   "metadata": {},
   "outputs": [
    {
     "name": "stdout",
     "output_type": "stream",
     "text": [
      "0.7401574803149606\n"
     ]
    }
   ],
   "source": [
    "print(p/(p+q+r+s))"
   ]
  },
  {
   "cell_type": "code",
   "execution_count": null,
   "id": "bba144e8",
   "metadata": {},
   "outputs": [],
   "source": []
  }
 ],
 "metadata": {
  "kernelspec": {
   "display_name": "Python 3",
   "language": "python",
   "name": "python3"
  },
  "language_info": {
   "codemirror_mode": {
    "name": "ipython",
    "version": 3
   },
   "file_extension": ".py",
   "mimetype": "text/x-python",
   "name": "python",
   "nbconvert_exporter": "python",
   "pygments_lexer": "ipython3",
   "version": "3.9.6"
  }
 },
 "nbformat": 4,
 "nbformat_minor": 5
}
